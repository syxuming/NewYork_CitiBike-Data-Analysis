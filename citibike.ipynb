{
 "cells": [
  {
   "cell_type": "markdown",
   "metadata": {},
   "source": [
    "# 990万次骑行: 纽约自行车共享系统分析"
   ]
  },
  {
   "cell_type": "code",
   "execution_count": 18,
   "metadata": {
    "collapsed": true
   },
   "outputs": [],
   "source": [
    "import numpy as np\n",
    "import pandas as pd\n",
    "import time,datetime\n",
    "import matplotlib.pyplot as plt"
   ]
  },
  {
   "cell_type": "code",
   "execution_count": 19,
   "metadata": {
    "collapsed": true
   },
   "outputs": [],
   "source": [
    "%matplotlib inline"
   ]
  },
  {
   "cell_type": "code",
   "execution_count": 20,
   "metadata": {
    "collapsed": false
   },
   "outputs": [
    {
     "name": "stdout",
     "output_type": "stream",
     "text": [
      "Using matplotlib backend: Qt5Agg\n",
      "Populating the interactive namespace from numpy and matplotlib\n",
      "Warning: Cannot change to a different GUI toolkit: notebook. Using qt5 instead.\n"
     ]
    }
   ],
   "source": [
    "%pylab\n",
    "%matplotlib notebook"
   ]
  },
  {
   "cell_type": "code",
   "execution_count": 4,
   "metadata": {
    "collapsed": false
   },
   "outputs": [],
   "source": [
    "cb1 = pd.DataFrame(pd.read_csv('d:/pydata/citibike/201501-citibike-tripdata.csv'))\n",
    "cb2 = pd.DataFrame(pd.read_csv('d:/pydata/citibike/201502-citibike-tripdata.csv'))\n",
    "cb3 = pd.DataFrame(pd.read_csv('d:/pydata/citibike/201503-citibike-tripdata.csv'))\n",
    "cb4 = pd.DataFrame(pd.read_csv('d:/pydata/citibike/201504-citibike-tripdata.csv'))\n",
    "cb5 = pd.DataFrame(pd.read_csv('d:/pydata/citibike/201505-citibike-tripdata.csv'))\n",
    "cb6 = pd.DataFrame(pd.read_csv('d:/pydata/citibike/201506-citibike-tripdata.csv'))\n",
    "cb7 = pd.DataFrame(pd.read_csv('d:/pydata/citibike/201507-citibike-tripdata.csv'))\n",
    "cb8 = pd.DataFrame(pd.read_csv('d:/pydata/citibike/201508-citibike-tripdata.csv'))\n",
    "cb9 = pd.DataFrame(pd.read_csv('d:/pydata/citibike/201509-citibike-tripdata.csv'))\n",
    "cb10 = pd.DataFrame(pd.read_csv('d:/pydata/citibike/201510-citibike-tripdata.csv'))\n",
    "cb11 = pd.DataFrame(pd.read_csv('d:/pydata/citibike/201511-citibike-tripdata.csv'))\n",
    "cb12 = pd.DataFrame(pd.read_csv('d:/pydata/citibike/201512-citibike-tripdata.csv'))"
   ]
  },
  {
   "cell_type": "code",
   "execution_count": 5,
   "metadata": {
    "collapsed": false
   },
   "outputs": [],
   "source": [
    "cb = pd.concat([cb1,cb2,cb3,cb4,cb5,cb6,cb7,cb8,cb9,cb10,cb11,cb12],ignore_index=False) #ignore_index=False,不忽略索引\n",
    "cb['tripduration'] = cb['tripduration'].astype('float64')#改变数据类型，因为数据量大，原本的位数不够用"
   ]
  },
  {
   "cell_type": "code",
   "execution_count": 6,
   "metadata": {
    "collapsed": false
   },
   "outputs": [
    {
     "data": {
      "text/plain": [
       "(9937969, 15)"
      ]
     },
     "execution_count": 6,
     "metadata": {},
     "output_type": "execute_result"
    }
   ],
   "source": [
    "#共有9937969条数据（骑行次数）\n",
    "cb.shape"
   ]
  },
  {
   "cell_type": "code",
   "execution_count": 7,
   "metadata": {
    "collapsed": false
   },
   "outputs": [
    {
     "data": {
      "text/plain": [
       "497"
      ]
     },
     "execution_count": 7,
     "metadata": {},
     "output_type": "execute_result"
    }
   ],
   "source": [
    "#共有497个租赁点\n",
    "len(cb['start station name'].unique())"
   ]
  },
  {
   "cell_type": "code",
   "execution_count": 8,
   "metadata": {
    "collapsed": false
   },
   "outputs": [
    {
     "data": {
      "text/plain": [
       "8477"
      ]
     },
     "execution_count": 8,
     "metadata": {},
     "output_type": "execute_result"
    }
   ],
   "source": [
    "#共有8477辆自行车\n",
    "len(cb['bikeid'].unique())"
   ]
  },
  {
   "cell_type": "code",
   "execution_count": 9,
   "metadata": {
    "collapsed": false
   },
   "outputs": [
    {
     "data": {
      "text/plain": [
       "1172.3450513153239"
      ]
     },
     "execution_count": 9,
     "metadata": {},
     "output_type": "execute_result"
    }
   ],
   "source": [
    "#每辆自行车的被租借频率\n",
    "len(cb['bikeid'])/len(cb['bikeid'].unique())"
   ]
  },
  {
   "cell_type": "code",
   "execution_count": 10,
   "metadata": {
    "collapsed": false
   },
   "outputs": [
    {
     "data": {
      "text/plain": [
       "3.2119042501789696"
      ]
     },
     "execution_count": 10,
     "metadata": {},
     "output_type": "execute_result"
    }
   ],
   "source": [
    "#每辆自行车平均每日的租借频率\n",
    "cb['bikeid'].count()/len(cb['bikeid'].unique())/365"
   ]
  },
  {
   "cell_type": "code",
   "execution_count": 11,
   "metadata": {
    "collapsed": false
   },
   "outputs": [
    {
     "data": {
      "text/plain": [
       "16.134794237132358"
      ]
     },
     "execution_count": 11,
     "metadata": {},
     "output_type": "execute_result"
    }
   ],
   "source": [
    "#每次租借平均时长\n",
    "cb['tripduration'].mean()/60"
   ]
  },
  {
   "cell_type": "markdown",
   "metadata": {},
   "source": [
    "# 2015年Citi Bike每月骑行次数"
   ]
  },
  {
   "cell_type": "code",
   "execution_count": 27,
   "metadata": {
    "collapsed": false
   },
   "outputs": [],
   "source": [
    "cb['starttime']=pd.to_datetime(cb['starttime'])"
   ]
  },
  {
   "cell_type": "code",
   "execution_count": 28,
   "metadata": {
    "collapsed": true
   },
   "outputs": [],
   "source": [
    "cb = cb.set_index('starttime')"
   ]
  },
  {
   "cell_type": "code",
   "execution_count": 245,
   "metadata": {
    "collapsed": false
   },
   "outputs": [
    {
     "name": "stderr",
     "output_type": "stream",
     "text": [
      "C:\\ProgramData\\Anaconda3\\lib\\site-packages\\ipykernel\\__main__.py:1: FutureWarning: how in .resample() is deprecated\n",
      "the new syntax is .resample(...)..apply(<func>)\n",
      "  if __name__ == '__main__':\n"
     ]
    }
   ],
   "source": [
    "cb_month = cb.resample('M',how=len)"
   ]
  },
  {
   "cell_type": "code",
   "execution_count": 246,
   "metadata": {
    "collapsed": true
   },
   "outputs": [],
   "source": [
    "group_cb_month = cb_month['bikeid']"
   ]
  },
  {
   "cell_type": "code",
   "execution_count": 247,
   "metadata": {
    "collapsed": false
   },
   "outputs": [
    {
     "data": {
      "text/plain": [
       "starttime\n",
       "2015-01-31     285552\n",
       "2015-02-28     196930\n",
       "2015-03-31     341826\n",
       "2015-04-30     652390\n",
       "2015-05-31     961986\n",
       "2015-06-30     941219\n",
       "2015-07-31    1085676\n",
       "2015-08-31    1179044\n",
       "2015-09-30    1289699\n",
       "2015-10-31    1212277\n",
       "2015-11-30     987245\n",
       "2015-12-31     804125\n",
       "Freq: M, Name: bikeid, dtype: int64"
      ]
     },
     "execution_count": 247,
     "metadata": {},
     "output_type": "execute_result"
    }
   ],
   "source": [
    "group_cb_month"
   ]
  },
  {
   "cell_type": "code",
   "execution_count": 248,
   "metadata": {
    "collapsed": true
   },
   "outputs": [],
   "source": [
    "plt.rc('font',family='STXihei',size=15)"
   ]
  },
  {
   "cell_type": "code",
   "execution_count": 249,
   "metadata": {
    "collapsed": true
   },
   "outputs": [],
   "source": [
    "a = np.array([1,2,3,4,5,6,7,8,9,10,11,12])"
   ]
  },
  {
   "cell_type": "code",
   "execution_count": 285,
   "metadata": {
    "collapsed": false
   },
   "outputs": [],
   "source": [
    "#2015年Citi Bike每月骑行次数\n",
    "plt.plot(group_cb_month,'g8',group_cb_month,'g-',color='#39A2E1',linewidth=3,markeredgewidth=3,markeredgecolor='#39A2E1',alpha = 0.8)\n",
    "plt.xlabel('月份')\n",
    "plt.ylabel('租赁骑行次数')\n",
    "plt.title('2015年Citi Bike每月骑行次数')\n",
    "plt.grid(color='#95a5a6',linestyle='--',linewidth=1,axis='y',alpha=0.4)"
   ]
  },
  {
   "cell_type": "code",
   "execution_count": 251,
   "metadata": {
    "collapsed": false
   },
   "outputs": [
    {
     "data": {
      "text/plain": [
       "([<matplotlib.axis.XTick at 0x28118c4a860>,\n",
       "  <matplotlib.axis.XTick at 0x28118c1e860>,\n",
       "  <matplotlib.axis.XTick at 0x28118c19ef0>,\n",
       "  <matplotlib.axis.XTick at 0x28118d5bf60>,\n",
       "  <matplotlib.axis.XTick at 0x28118d62908>,\n",
       "  <matplotlib.axis.XTick at 0x28118d6b320>,\n",
       "  <matplotlib.axis.XTick at 0x28118d6bcf8>,\n",
       "  <matplotlib.axis.XTick at 0x28118d73710>,\n",
       "  <matplotlib.axis.XTick at 0x28118d780f0>,\n",
       "  <matplotlib.axis.XTick at 0x28118d78ac8>,\n",
       "  <matplotlib.axis.XTick at 0x28118d7e4e0>,\n",
       "  <matplotlib.axis.XTick at 0x28118d7eeb8>],\n",
       " <a list of 12 Text xticklabel objects>)"
      ]
     },
     "execution_count": 251,
     "metadata": {},
     "output_type": "execute_result"
    }
   ],
   "source": [
    "plt.xticks(a,('1月','2月','3月','4月','5月','6月','7月','8月','9月','10月','11月','12月'))"
   ]
  },
  {
   "cell_type": "markdown",
   "metadata": {},
   "source": [
    "# 2015年Citi Bike每季度骑行次数"
   ]
  },
  {
   "cell_type": "code",
   "execution_count": 253,
   "metadata": {
    "collapsed": false
   },
   "outputs": [
    {
     "name": "stderr",
     "output_type": "stream",
     "text": [
      "C:\\ProgramData\\Anaconda3\\lib\\site-packages\\ipykernel\\__main__.py:1: FutureWarning: how in .resample() is deprecated\n",
      "the new syntax is .resample(...)..apply(<func>)\n",
      "  if __name__ == '__main__':\n"
     ]
    }
   ],
   "source": [
    "cb_quarterly = cb.resample('Q',how=len)"
   ]
  },
  {
   "cell_type": "code",
   "execution_count": 255,
   "metadata": {
    "collapsed": true
   },
   "outputs": [],
   "source": [
    "group_cb_quarterly = cb_quarterly['bikeid']"
   ]
  },
  {
   "cell_type": "code",
   "execution_count": 260,
   "metadata": {
    "collapsed": false
   },
   "outputs": [
    {
     "data": {
      "text/plain": [
       "starttime\n",
       "2015-03-31     824308\n",
       "2015-06-30    2555595\n",
       "2015-09-30    3554419\n",
       "2015-12-31    3003647\n",
       "Freq: Q-DEC, Name: bikeid, dtype: int64"
      ]
     },
     "execution_count": 260,
     "metadata": {},
     "output_type": "execute_result"
    }
   ],
   "source": [
    "group_cb_quarterly"
   ]
  },
  {
   "cell_type": "code",
   "execution_count": 257,
   "metadata": {
    "collapsed": false
   },
   "outputs": [],
   "source": [
    "plt.rc('font', family='STXihei', size=15)"
   ]
  },
  {
   "cell_type": "code",
   "execution_count": 258,
   "metadata": {
    "collapsed": true
   },
   "outputs": [],
   "source": [
    "a = np.array([1,2,3,4])"
   ]
  },
  {
   "cell_type": "code",
   "execution_count": 305,
   "metadata": {
    "collapsed": false
   },
   "outputs": [
    {
     "data": {
      "text/plain": [
       "([<matplotlib.axis.XTick at 0x28119919e80>,\n",
       "  <matplotlib.axis.XTick at 0x28119ae9f60>,\n",
       "  <matplotlib.axis.XTick at 0x28119ae4cc0>,\n",
       "  <matplotlib.axis.XTick at 0x28119b55cf8>],\n",
       " <a list of 4 Text xticklabel objects>)"
      ]
     },
     "execution_count": 305,
     "metadata": {},
     "output_type": "execute_result"
    }
   ],
   "source": [
    "#2015年Citi Bike每季度骑行次数\n",
    "plt.bar([1,2,3,4],group_cb_quarterly,color='#39A2E1',alpha=0.8,align='center',edgecolor='white')\n",
    "plt.xlabel('季度')\n",
    "plt.ylabel('租赁骑行次数')\n",
    "plt.title('2015年Citi Bike每季度骑行次数')\n",
    "plt.legend(['次数'],loc='upper right')\n",
    "plt.grid(color='#95a5a6',linestyle='--',linewidth=1,axis='y',alpha=0.4)\n",
    "plt.xticks(a,('一季度','二季度','三季度','四季度'))"
   ]
  },
  {
   "cell_type": "markdown",
   "metadata": {},
   "source": [
    "# 用户年龄分布图"
   ]
  },
  {
   "cell_type": "code",
   "execution_count": 288,
   "metadata": {
    "collapsed": false
   },
   "outputs": [],
   "source": [
    "user_gender = cb.groupby('gender')['bikeid'].agg(len)/cb[\"bikeid\"].count()*100"
   ]
  },
  {
   "cell_type": "code",
   "execution_count": 289,
   "metadata": {
    "collapsed": false
   },
   "outputs": [
    {
     "data": {
      "text/plain": [
       "gender\n",
       "0    13.303302\n",
       "1    66.501807\n",
       "2    20.194891\n",
       "Name: bikeid, dtype: float64"
      ]
     },
     "execution_count": 289,
     "metadata": {},
     "output_type": "execute_result"
    }
   ],
   "source": [
    "user_gender"
   ]
  },
  {
   "cell_type": "code",
   "execution_count": 293,
   "metadata": {
    "collapsed": true
   },
   "outputs": [],
   "source": [
    "plt.rc('font',family='STXihei',size=15)\n",
    "colors = ['#052B6C','#39A2E1','#EA1F29']\n",
    "name = ['未知','男性','女性']"
   ]
  },
  {
   "cell_type": "code",
   "execution_count": 295,
   "metadata": {
    "collapsed": false
   },
   "outputs": [
    {
     "data": {
      "text/plain": [
       "<matplotlib.legend.Legend at 0x2811963b0f0>"
      ]
     },
     "execution_count": 295,
     "metadata": {},
     "output_type": "execute_result"
    }
   ],
   "source": [
    "#Citi Bike用户性别占比\n",
    "plt.pie(user_gender,labels=name,colors=colors,explode=(0,0,0),startangle=60,autopct='%1.1f%%')\n",
    "plt.title('Citi Bike用户性别占比')\n",
    "plt.legend(['未知','男性','女性'],loc='upper left')"
   ]
  },
  {
   "cell_type": "code",
   "execution_count": null,
   "metadata": {
    "collapsed": true
   },
   "outputs": [],
   "source": [
    "#查看所有用户年龄分布\n",
    "cb['birth year'].min(),cb['birth year'].max()\n",
    "cb['age']=2015-cb['birth year']\n",
    "cb['age'].min(),cb['age'].max()"
   ]
  },
  {
   "cell_type": "code",
   "execution_count": 303,
   "metadata": {
    "collapsed": true
   },
   "outputs": [],
   "source": [
    "#对年龄进行分组汇总\n",
    "bins = [0,18,30,50,131]\n",
    "group_age = ['少年','青年','中年','老年']\n",
    "cb['group_age']= pd.cut(cb['age'],bins,labels=group_age)\n",
    "user_age = cb.groupby('group_age')['group_age'].agg(len)"
   ]
  },
  {
   "cell_type": "code",
   "execution_count": 304,
   "metadata": {
    "collapsed": false
   },
   "outputs": [
    {
     "data": {
      "text/plain": [
       "([<matplotlib.axis.XTick at 0x281198827f0>,\n",
       "  <matplotlib.axis.XTick at 0x281198a3f60>,\n",
       "  <matplotlib.axis.XTick at 0x28119887940>,\n",
       "  <matplotlib.axis.XTick at 0x281198fb7b8>],\n",
       " <a list of 4 Text xticklabel objects>)"
      ]
     },
     "execution_count": 304,
     "metadata": {},
     "output_type": "execute_result"
    }
   ],
   "source": [
    "#用户年龄分布图\n",
    "plt.rc('font',family='STXihei',size=15)\n",
    "a = np.array([1,2,3,4])\n",
    "plt.bar([1,2,3,4],user_age,color='#052B6C',alpha=0.8,align='center',edgecolor='white')\n",
    "plt.xlabel('年龄分组')\n",
    "plt.ylabel('租赁次数')\n",
    "plt.title('Citi Bike用户年龄分布')\n",
    "plt.legend(['次数'],loc='upper right')\n",
    "plt.grid(color='#95a5a6',linestyle='--',linewidth=1,axis='y',alpha=0.4)\n",
    "plt.xticks(a,('少年','青年','中年','老年'))"
   ]
  },
  {
   "cell_type": "markdown",
   "metadata": {},
   "source": [
    "# 用户会员类别饼图"
   ]
  },
  {
   "cell_type": "code",
   "execution_count": 307,
   "metadata": {
    "collapsed": false
   },
   "outputs": [],
   "source": [
    "user_type = cb.groupby('usertype')['bikeid'].agg(len)/cb['bikeid'].count()*100"
   ]
  },
  {
   "cell_type": "code",
   "execution_count": 308,
   "metadata": {
    "collapsed": false
   },
   "outputs": [
    {
     "data": {
      "text/plain": [
       "<matplotlib.legend.Legend at 0x28119bd67f0>"
      ]
     },
     "execution_count": 308,
     "metadata": {},
     "output_type": "execute_result"
    }
   ],
   "source": [
    "plt.rc('font',family='STXihei',size=15)\n",
    "colors = ['#EA1F29','#39A2E1']\n",
    "name=['Customer','Subscriber']\n",
    "plt.pie(user_type,labels=name,colors=colors,explode=(0,0),startangle=43,autopct='%1.1f%%')\n",
    "plt.title('Citi Bike用户类别占比')\n",
    "plt.legend(['Customer','Subscriber'],loc='upper left')"
   ]
  },
  {
   "cell_type": "markdown",
   "metadata": {},
   "source": [
    "# 用户的骑行时间及速度"
   ]
  },
  {
   "cell_type": "markdown",
   "metadata": {},
   "source": [
    "## 24小时中各时段骑行数"
   ]
  },
  {
   "cell_type": "code",
   "execution_count": 12,
   "metadata": {
    "collapsed": false
   },
   "outputs": [],
   "source": [
    "#对starttime字段进行分列,然后拼接到原数据表中\n",
    "time_split = pd.DataFrame((x.split(' ') for x in cb5.starttime),index=cb5.index,columns=['start_date','start_time'])\n",
    "cb5 = pd.merge(cb5,time_split,right_index=True,left_index=True)"
   ]
  },
  {
   "cell_type": "code",
   "execution_count": 13,
   "metadata": {
    "collapsed": false
   },
   "outputs": [
    {
     "name": "stderr",
     "output_type": "stream",
     "text": [
      "C:\\ProgramData\\Anaconda3\\lib\\site-packages\\ipykernel\\__main__.py:3: FutureWarning: how in .resample() is deprecated\n",
      "the new syntax is .resample(...)..apply(<func>)\n",
      "  app.launch_new_instance()\n"
     ]
    }
   ],
   "source": [
    "cb5['start_time']=pd.to_datetime(cb5['start_time'])\n",
    "cb5 = cb5.set_index('start_time')\n",
    "star_hour = cb5.resample('H',how=len)"
   ]
  },
  {
   "cell_type": "code",
   "execution_count": 16,
   "metadata": {
    "collapsed": false
   },
   "outputs": [],
   "source": [
    "ride_hour = star_hour['bikeid']"
   ]
  },
  {
   "cell_type": "code",
   "execution_count": 21,
   "metadata": {
    "collapsed": true
   },
   "outputs": [],
   "source": [
    "plt.rc('font',family='STXihei',size=15)"
   ]
  },
  {
   "cell_type": "code",
   "execution_count": 23,
   "metadata": {
    "collapsed": false
   },
   "outputs": [],
   "source": [
    "a= np.array(np.arange(24))"
   ]
  },
  {
   "cell_type": "code",
   "execution_count": 25,
   "metadata": {
    "collapsed": false
   },
   "outputs": [
    {
     "data": {
      "text/plain": [
       "[<matplotlib.lines.Line2D at 0x1e411934240>,\n",
       " <matplotlib.lines.Line2D at 0x1e411a121d0>]"
      ]
     },
     "execution_count": 25,
     "metadata": {},
     "output_type": "execute_result"
    }
   ],
   "source": [
    "plt.plot(ride_hour,'8',ride_hour,'g-',color='#052B6C',linewidth=3,markeredgewidth=3,markeredgecolor='#052B6C',alpha=0.8)"
   ]
  },
  {
   "cell_type": "markdown",
   "metadata": {},
   "source": [
    "## 骑行时间长度的分布"
   ]
  },
  {
   "cell_type": "code",
   "execution_count": 30,
   "metadata": {
    "collapsed": false
   },
   "outputs": [],
   "source": [
    "time_max = cb5['tripduration'].max()"
   ]
  },
  {
   "cell_type": "code",
   "execution_count": 34,
   "metadata": {
    "collapsed": true
   },
   "outputs": [],
   "source": [
    "bins = [0,300,600,1200,1800,2700,time_max]"
   ]
  },
  {
   "cell_type": "code",
   "execution_count": 35,
   "metadata": {
    "collapsed": true
   },
   "outputs": [],
   "source": [
    "tripduration_labels = ['5分钟','10分钟','20分钟','30分钟','45分钟','更长时间']"
   ]
  },
  {
   "cell_type": "code",
   "execution_count": 36,
   "metadata": {
    "collapsed": false
   },
   "outputs": [],
   "source": [
    "cb5['group_tripduration'] = pd.cut(cb5['tripduration'],bins,labels=tripduration_labels)"
   ]
  },
  {
   "cell_type": "code",
   "execution_count": 38,
   "metadata": {
    "collapsed": false
   },
   "outputs": [],
   "source": [
    "group_minute = cb5.groupby('group_tripduration')['group_tripduration'].agg(len)"
   ]
  },
  {
   "cell_type": "code",
   "execution_count": 40,
   "metadata": {
    "collapsed": false
   },
   "outputs": [],
   "source": [
    "plt.rc('font',family='STXihei',size=15)\n",
    "a = np.array([1,2,3,4,5,6])\n",
    "plt.bar([1,2,3,4,5,6],group_minute,color='#9F713F',alpha=0.8,align='center',edgecolor='white')\n",
    "plt.xlabel('时间分组')\n",
    "plt.ylabel('骑行次数')\n",
    "plt.title('Citi Bike骑行时间分布')\n",
    "plt.legend(['时间'],loc='upper right')\n",
    "plt.grid(color='#95a5a6',linestyle='--',linewidth=1,axis='y',alpha = 0.4)\n",
    "plt.xticks(a,('5分钟','10分钟','20分钟','30分钟','45分钟','更长时间'))\n",
    "plt.show()"
   ]
  },
  {
   "cell_type": "markdown",
   "metadata": {},
   "source": [
    "## 平均骑行速度\n",
    "\n",
    "#### 根据 开始和结束站点的经纬度 求出路程长度，最后除以时间得出速度。（不准确没有考虑具体城市路线）"
   ]
  },
  {
   "cell_type": "code",
   "execution_count": 41,
   "metadata": {
    "collapsed": true
   },
   "outputs": [],
   "source": [
    "from math import radians,cos,sin,asin,sqrt"
   ]
  },
  {
   "cell_type": "code",
   "execution_count": 42,
   "metadata": {
    "collapsed": true
   },
   "outputs": [],
   "source": [
    "#通过经纬度计算距离的函数\n",
    "def haversine(lon1,lat1,lon2,lat2): #经度1，纬度1，经度2，纬度2（十进制）\n",
    "    '''\n",
    "    Calculate the great circle distance between two points \n",
    "    on the earth(specified in decimal degrees)\n",
    "    '''\n",
    "    #将十进制转化为弧度\n",
    "    lon1 = map(radians,np.array(lon1))\n",
    "    lat1 = map(radians,np.array(lat1))\n",
    "    lon2 = map(radians,np.array(lon2))\n",
    "    lat2 = map(radians,np.array(lat2))\n",
    "    lon1 = np.array(list(lon1)).reshape(-1,1)\n",
    "    lon2 = np.array(list(lon2)).reshape(-1,1)\n",
    "    lat1 = np.array(list(lat1)).reshape(-1,1)\n",
    "    lat2 = np.array(list(lat2)).reshape(-1,1)\n",
    "    #haversine公式\n",
    "    dlon = lon2 - lon1\n",
    "    dlat = lat2 - lat1\n",
    "    a = np.sin(dlat/2)**2 + np.cos(lat1) * np.cos(lat2) *np.sin(dlon/2) **2\n",
    "    c = 2 * np.arcsin(np.sqrt(a))\n",
    "    r = 6371 #地球平均半径，单位为公里\n",
    "    return c * r * 1000"
   ]
  },
  {
   "cell_type": "code",
   "execution_count": 46,
   "metadata": {
    "collapsed": false
   },
   "outputs": [],
   "source": [
    "#计算每次骑行的米数并增加骑行距离的字段\n",
    "cb5['meter'] = haversine(cb5['start station longitude'],cb5['start station latitude'],cb5['end station longitude'],cb5['end station latitude'])\n"
   ]
  },
  {
   "cell_type": "code",
   "execution_count": 47,
   "metadata": {
    "collapsed": true
   },
   "outputs": [],
   "source": [
    "#将原数据表中的骑行时间由秒转化为小时\n",
    "cb5['duration_hour'] = cb5['tripduration']/3600"
   ]
  },
  {
   "cell_type": "code",
   "execution_count": 48,
   "metadata": {
    "collapsed": true
   },
   "outputs": [],
   "source": [
    "#将米转化成公里，并计算出速度\n",
    "cb5['speed'] = cb5['meter']/1000/cb5['duration_hour']"
   ]
  },
  {
   "cell_type": "code",
   "execution_count": 49,
   "metadata": {
    "collapsed": true
   },
   "outputs": [],
   "source": [
    "#现在我们有了每次骑行的速度，还要计算出用户平均的骑行速度。"
   ]
  },
  {
   "cell_type": "code",
   "execution_count": 51,
   "metadata": {
    "collapsed": true
   },
   "outputs": [],
   "source": [
    "#将每次骑行的米数求和并转化为公里\n",
    "km = cb5['meter'].sum()/1000"
   ]
  },
  {
   "cell_type": "code",
   "execution_count": 53,
   "metadata": {
    "collapsed": true
   },
   "outputs": [],
   "source": [
    "#将每次骑行的秒数求和并转化成小时\n",
    "hour = cb5['tripduration'].sum()/3600"
   ]
  },
  {
   "cell_type": "code",
   "execution_count": 54,
   "metadata": {
    "collapsed": true
   },
   "outputs": [],
   "source": [
    "speed = km/hour"
   ]
  },
  {
   "cell_type": "code",
   "execution_count": 56,
   "metadata": {
    "collapsed": false
   },
   "outputs": [
    {
     "data": {
      "text/plain": [
       "6.3101247093495"
      ]
     },
     "execution_count": 56,
     "metadata": {},
     "output_type": "execute_result"
    }
   ],
   "source": [
    "#平均速度为6.31公里/时\n",
    "speed"
   ]
  },
  {
   "cell_type": "markdown",
   "metadata": {},
   "source": [
    "## 骑行速度与年龄的关联\n",
    "#### 以2015年5月数据为例"
   ]
  },
  {
   "cell_type": "code",
   "execution_count": 58,
   "metadata": {
    "collapsed": true
   },
   "outputs": [],
   "source": [
    "#计算并增加年龄字段\n",
    "cb5['age'] = 2015-cb5['birth year']"
   ]
  },
  {
   "cell_type": "code",
   "execution_count": 59,
   "metadata": {
    "collapsed": true
   },
   "outputs": [],
   "source": [
    "#提取年龄和骑行速度字段\n",
    "age_speed = cb5[['speed','age']]"
   ]
  },
  {
   "cell_type": "code",
   "execution_count": 60,
   "metadata": {
    "collapsed": true
   },
   "outputs": [],
   "source": [
    "#去除骑行速度为0的数据\n",
    "age_speed = age_speed.dropna()"
   ]
  },
  {
   "cell_type": "code",
   "execution_count": 61,
   "metadata": {
    "collapsed": true
   },
   "outputs": [],
   "source": [
    "#年龄设置为自变量X\n",
    "X = np.array(age_speed[['age']])"
   ]
  },
  {
   "cell_type": "code",
   "execution_count": 62,
   "metadata": {
    "collapsed": true
   },
   "outputs": [],
   "source": [
    "#速度设置为因变量Y\n",
    "Y = np.array(age_speed[['speed']])"
   ]
  },
  {
   "cell_type": "code",
   "execution_count": 64,
   "metadata": {
    "collapsed": false
   },
   "outputs": [
    {
     "data": {
      "text/plain": [
       "LinearRegression(copy_X=True, fit_intercept=True, n_jobs=1, normalize=False)"
      ]
     },
     "execution_count": 64,
     "metadata": {},
     "output_type": "execute_result"
    }
   ],
   "source": [
    "#导入线性回归库\n",
    "from sklearn import linear_model\n",
    "#将数据导入模型\n",
    "clf = linear_model.LinearRegression()\n",
    "clf.fit(X,Y)"
   ]
  },
  {
   "cell_type": "code",
   "execution_count": 65,
   "metadata": {
    "collapsed": false
   },
   "outputs": [
    {
     "data": {
      "text/plain": [
       "array([[-0.02899706]])"
      ]
     },
     "execution_count": 65,
     "metadata": {},
     "output_type": "execute_result"
    }
   ],
   "source": [
    "#斜率\n",
    "clf.coef_"
   ]
  },
  {
   "cell_type": "code",
   "execution_count": 66,
   "metadata": {
    "collapsed": false
   },
   "outputs": [
    {
     "data": {
      "text/plain": [
       "array([ 10.02613732])"
      ]
     },
     "execution_count": 66,
     "metadata": {},
     "output_type": "execute_result"
    }
   ],
   "source": [
    "#截距\n",
    "clf.intercept_"
   ]
  },
  {
   "cell_type": "code",
   "execution_count": 67,
   "metadata": {
    "collapsed": false
   },
   "outputs": [
    {
     "data": {
      "text/plain": [
       "0.011272777068772388"
      ]
     },
     "execution_count": 67,
     "metadata": {},
     "output_type": "execute_result"
    }
   ],
   "source": [
    "#R方\n",
    "clf.score(X,Y)"
   ]
  },
  {
   "cell_type": "code",
   "execution_count": 68,
   "metadata": {
    "collapsed": false
   },
   "outputs": [
    {
     "data": {
      "text/plain": [
       "array([[ 9.44619622]])"
      ]
     },
     "execution_count": 68,
     "metadata": {},
     "output_type": "execute_result"
    }
   ],
   "source": [
    "#20岁的骑行速度预测为9.4公里/时\n",
    "clf.predict(20)"
   ]
  },
  {
   "cell_type": "code",
   "execution_count": null,
   "metadata": {
    "collapsed": true
   },
   "outputs": [],
   "source": [
    "#50岁的骑行速度预测为8.6公里/时\n",
    "clf.predict(50)"
   ]
  }
 ],
 "metadata": {
  "kernelspec": {
   "display_name": "Python 3",
   "language": "python",
   "name": "python3"
  },
  "language_info": {
   "codemirror_mode": {
    "name": "ipython",
    "version": 3
   },
   "file_extension": ".py",
   "mimetype": "text/x-python",
   "name": "python",
   "nbconvert_exporter": "python",
   "pygments_lexer": "ipython3",
   "version": "3.6.0"
  }
 },
 "nbformat": 4,
 "nbformat_minor": 2
}
